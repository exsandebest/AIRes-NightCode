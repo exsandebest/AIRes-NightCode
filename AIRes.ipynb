{
  "nbformat": 4,
  "nbformat_minor": 0,
  "metadata": {
    "colab": {
      "name": "AIRes",
      "provenance": []
    },
    "kernelspec": {
      "name": "python3",
      "display_name": "Python 3"
    },
    "accelerator": "GPU"
  },
  "cells": [
    {
      "cell_type": "markdown",
      "metadata": {
        "id": "GwI79oF1RCZc"
      },
      "source": [
        "**Введение**  \r\n",
        "Здесь показан алгоритм обработки данных о предыдущих кандидатах компаннии, обучения модели на них и получения списка новых кандидатов, которых стоит рассмотреть для приглашения на собеседование  \r\n",
        "\r\n",
        "**Важное примечание**  \r\n",
        "Данные синтетические и используются лишь для примера  \r\n",
        "В анкетах работников есть и текстовые данные о навыках и опыте, которые путём заполнения электронной анкеты просто преобразовать в табличные  \r\n",
        "Работу с текстом CatBoost берёт на себя"
      ]
    },
    {
      "cell_type": "markdown",
      "metadata": {
        "id": "Q6nNab9Ez77M"
      },
      "source": [
        "Установим библиотеки, которые обычно не установлены по умолчанию"
      ]
    },
    {
      "cell_type": "code",
      "metadata": {
        "colab": {
          "base_uri": "https://localhost:8080/"
        },
        "id": "T-PS1WyRI_K7",
        "outputId": "00181cfe-ef38-4723-b5ca-fdc7628d19e9"
      },
      "source": [
        "!pip install -U catboost\r\n",
        "!pip install -U feature_selector --no-dependencies"
      ],
      "execution_count": 1,
      "outputs": [
        {
          "output_type": "stream",
          "text": [
            "Requirement already up-to-date: catboost in /usr/local/lib/python3.6/dist-packages (0.24.4)\n",
            "Requirement already satisfied, skipping upgrade: graphviz in /usr/local/lib/python3.6/dist-packages (from catboost) (0.10.1)\n",
            "Requirement already satisfied, skipping upgrade: plotly in /usr/local/lib/python3.6/dist-packages (from catboost) (4.4.1)\n",
            "Requirement already satisfied, skipping upgrade: six in /usr/local/lib/python3.6/dist-packages (from catboost) (1.15.0)\n",
            "Requirement already satisfied, skipping upgrade: numpy>=1.16.0 in /usr/local/lib/python3.6/dist-packages (from catboost) (1.19.5)\n",
            "Requirement already satisfied, skipping upgrade: pandas>=0.24.0 in /usr/local/lib/python3.6/dist-packages (from catboost) (1.1.5)\n",
            "Requirement already satisfied, skipping upgrade: matplotlib in /usr/local/lib/python3.6/dist-packages (from catboost) (3.2.2)\n",
            "Requirement already satisfied, skipping upgrade: scipy in /usr/local/lib/python3.6/dist-packages (from catboost) (1.4.1)\n",
            "Requirement already satisfied, skipping upgrade: retrying>=1.3.3 in /usr/local/lib/python3.6/dist-packages (from plotly->catboost) (1.3.3)\n",
            "Requirement already satisfied, skipping upgrade: pytz>=2017.2 in /usr/local/lib/python3.6/dist-packages (from pandas>=0.24.0->catboost) (2018.9)\n",
            "Requirement already satisfied, skipping upgrade: python-dateutil>=2.7.3 in /usr/local/lib/python3.6/dist-packages (from pandas>=0.24.0->catboost) (2.8.1)\n",
            "Requirement already satisfied, skipping upgrade: pyparsing!=2.0.4,!=2.1.2,!=2.1.6,>=2.0.1 in /usr/local/lib/python3.6/dist-packages (from matplotlib->catboost) (2.4.7)\n",
            "Requirement already satisfied, skipping upgrade: kiwisolver>=1.0.1 in /usr/local/lib/python3.6/dist-packages (from matplotlib->catboost) (1.3.1)\n",
            "Requirement already satisfied, skipping upgrade: cycler>=0.10 in /usr/local/lib/python3.6/dist-packages (from matplotlib->catboost) (0.10.0)\n",
            "Requirement already up-to-date: feature_selector in /usr/local/lib/python3.6/dist-packages (1.0.0)\n"
          ],
          "name": "stdout"
        }
      ]
    },
    {
      "cell_type": "markdown",
      "metadata": {
        "id": "3WdTccFX0G10"
      },
      "source": [
        "Import'им библиотеки и методы"
      ]
    },
    {
      "cell_type": "code",
      "metadata": {
        "colab": {
          "base_uri": "https://localhost:8080/"
        },
        "id": "e0GxppehJOts",
        "outputId": "3c8d6dfd-e59f-43c3-81b8-610495609998"
      },
      "source": [
        "%%time\r\n",
        "%pylab inline\r\n",
        "import pandas as pd\r\n",
        "import numpy as np\r\n",
        "import catboost\r\n",
        "from catboost import CatBoostClassifier\r\n",
        "from sklearn.model_selection import train_test_split\r\n",
        "from feature_selector import FeatureSelector"
      ],
      "execution_count": 2,
      "outputs": [
        {
          "output_type": "stream",
          "text": [
            "Populating the interactive namespace from numpy and matplotlib\n",
            "CPU times: user 324 ms, sys: 141 ms, total: 464 ms\n",
            "Wall time: 356 ms\n"
          ],
          "name": "stdout"
        }
      ]
    },
    {
      "cell_type": "code",
      "metadata": {
        "colab": {
          "base_uri": "https://localhost:8080/"
        },
        "id": "8OzmIScFJQBC",
        "outputId": "e629b478-c273-47a0-a9af-b8e31842ea37"
      },
      "source": [
        "#checking versions\r\n",
        "print(catboost.__version__)\r\n",
        "!python --version"
      ],
      "execution_count": 3,
      "outputs": [
        {
          "output_type": "stream",
          "text": [
            "0.24.4\n",
            "Python 3.6.9\n"
          ],
          "name": "stdout"
        }
      ]
    },
    {
      "cell_type": "markdown",
      "metadata": {
        "id": "YxHXVQLO0qej"
      },
      "source": [
        "Загрузим данные о прошлых кандидатах некого работодателя и посмотрим, что они из себя представляют"
      ]
    },
    {
      "cell_type": "code",
      "metadata": {
        "id": "VhKoRellq7rX"
      },
      "source": [
        "addr_hr_1_train = \"./data/hr_1_train.csv\"\r\n",
        "addr_hr_1_test = \"./data/hr_1_test.csv\""
      ],
      "execution_count": 4,
      "outputs": []
    },
    {
      "cell_type": "code",
      "metadata": {
        "id": "qkITwy27JSQK"
      },
      "source": [
        "data_train = pd.read_csv(addr_hr_1_train).drop(columns = [\"hired\", \"id\"])\r\n",
        "target = pd.read_csv(addr_hr_1_train)[\"hired\"]\r\n",
        "data_test = pd.read_csv(addr_hr_1_test)"
      ],
      "execution_count": 5,
      "outputs": []
    },
    {
      "cell_type": "code",
      "metadata": {
        "colab": {
          "base_uri": "https://localhost:8080/"
        },
        "id": "YyChjirtO9ty",
        "outputId": "8a3209ab-26fe-49ed-90cc-9854b810ce39"
      },
      "source": [
        "data_train.shape"
      ],
      "execution_count": 6,
      "outputs": [
        {
          "output_type": "execute_result",
          "data": {
            "text/plain": [
              "(2000, 5)"
            ]
          },
          "metadata": {
            "tags": []
          },
          "execution_count": 6
        }
      ]
    },
    {
      "cell_type": "code",
      "metadata": {
        "colab": {
          "base_uri": "https://localhost:8080/"
        },
        "id": "8VXIfqB1PAoz",
        "outputId": "bdf82b10-dfb0-492d-de30-83b5395f4493"
      },
      "source": [
        "data_test.shape"
      ],
      "execution_count": 7,
      "outputs": [
        {
          "output_type": "execute_result",
          "data": {
            "text/plain": [
              "(899, 6)"
            ]
          },
          "metadata": {
            "tags": []
          },
          "execution_count": 7
        }
      ]
    },
    {
      "cell_type": "code",
      "metadata": {
        "colab": {
          "base_uri": "https://localhost:8080/",
          "height": 204
        },
        "id": "cYVkQNjr0yMc",
        "outputId": "cda1d4f9-aa3e-4e0b-a645-3cf34af979db"
      },
      "source": [
        "data_train.head()"
      ],
      "execution_count": 8,
      "outputs": [
        {
          "output_type": "execute_result",
          "data": {
            "text/html": [
              "<div>\n",
              "<style scoped>\n",
              "    .dataframe tbody tr th:only-of-type {\n",
              "        vertical-align: middle;\n",
              "    }\n",
              "\n",
              "    .dataframe tbody tr th {\n",
              "        vertical-align: top;\n",
              "    }\n",
              "\n",
              "    .dataframe thead th {\n",
              "        text-align: right;\n",
              "    }\n",
              "</style>\n",
              "<table border=\"1\" class=\"dataframe\">\n",
              "  <thead>\n",
              "    <tr style=\"text-align: right;\">\n",
              "      <th></th>\n",
              "      <th>gender</th>\n",
              "      <th>age</th>\n",
              "      <th>has_car</th>\n",
              "      <th>children</th>\n",
              "      <th>salary</th>\n",
              "    </tr>\n",
              "  </thead>\n",
              "  <tbody>\n",
              "    <tr>\n",
              "      <th>0</th>\n",
              "      <td>1.0</td>\n",
              "      <td>32</td>\n",
              "      <td>0.0</td>\n",
              "      <td>1</td>\n",
              "      <td>180000</td>\n",
              "    </tr>\n",
              "    <tr>\n",
              "      <th>1</th>\n",
              "      <td>1.0</td>\n",
              "      <td>20</td>\n",
              "      <td>1.0</td>\n",
              "      <td>0</td>\n",
              "      <td>250000</td>\n",
              "    </tr>\n",
              "    <tr>\n",
              "      <th>2</th>\n",
              "      <td>0.0</td>\n",
              "      <td>24</td>\n",
              "      <td>NaN</td>\n",
              "      <td>0</td>\n",
              "      <td>310000</td>\n",
              "    </tr>\n",
              "    <tr>\n",
              "      <th>3</th>\n",
              "      <td>0.0</td>\n",
              "      <td>42</td>\n",
              "      <td>1.0</td>\n",
              "      <td>1</td>\n",
              "      <td>110000</td>\n",
              "    </tr>\n",
              "    <tr>\n",
              "      <th>4</th>\n",
              "      <td>0.0</td>\n",
              "      <td>25</td>\n",
              "      <td>1.0</td>\n",
              "      <td>1</td>\n",
              "      <td>300000</td>\n",
              "    </tr>\n",
              "  </tbody>\n",
              "</table>\n",
              "</div>"
            ],
            "text/plain": [
              "   gender  age  has_car  children  salary\n",
              "0     1.0   32      0.0         1  180000\n",
              "1     1.0   20      1.0         0  250000\n",
              "2     0.0   24      NaN         0  310000\n",
              "3     0.0   42      1.0         1  110000\n",
              "4     0.0   25      1.0         1  300000"
            ]
          },
          "metadata": {
            "tags": []
          },
          "execution_count": 8
        }
      ]
    },
    {
      "cell_type": "code",
      "metadata": {
        "colab": {
          "base_uri": "https://localhost:8080/",
          "height": 297
        },
        "id": "bi7g2CbzECRh",
        "outputId": "6fe0b478-82e0-4fcc-fe2e-4aa5532925d0"
      },
      "source": [
        "data_train.describe()"
      ],
      "execution_count": 9,
      "outputs": [
        {
          "output_type": "execute_result",
          "data": {
            "text/html": [
              "<div>\n",
              "<style scoped>\n",
              "    .dataframe tbody tr th:only-of-type {\n",
              "        vertical-align: middle;\n",
              "    }\n",
              "\n",
              "    .dataframe tbody tr th {\n",
              "        vertical-align: top;\n",
              "    }\n",
              "\n",
              "    .dataframe thead th {\n",
              "        text-align: right;\n",
              "    }\n",
              "</style>\n",
              "<table border=\"1\" class=\"dataframe\">\n",
              "  <thead>\n",
              "    <tr style=\"text-align: right;\">\n",
              "      <th></th>\n",
              "      <th>gender</th>\n",
              "      <th>age</th>\n",
              "      <th>has_car</th>\n",
              "      <th>children</th>\n",
              "      <th>salary</th>\n",
              "    </tr>\n",
              "  </thead>\n",
              "  <tbody>\n",
              "    <tr>\n",
              "      <th>count</th>\n",
              "      <td>1932.000000</td>\n",
              "      <td>2000.000000</td>\n",
              "      <td>1860.000000</td>\n",
              "      <td>2000.00000</td>\n",
              "      <td>2.000000e+03</td>\n",
              "    </tr>\n",
              "    <tr>\n",
              "      <th>mean</th>\n",
              "      <td>0.507764</td>\n",
              "      <td>98.411500</td>\n",
              "      <td>0.501075</td>\n",
              "      <td>0.32300</td>\n",
              "      <td>9.039300e+05</td>\n",
              "    </tr>\n",
              "    <tr>\n",
              "      <th>std</th>\n",
              "      <td>0.500069</td>\n",
              "      <td>361.675137</td>\n",
              "      <td>0.500133</td>\n",
              "      <td>0.55931</td>\n",
              "      <td>4.396999e+06</td>\n",
              "    </tr>\n",
              "    <tr>\n",
              "      <th>min</th>\n",
              "      <td>0.000000</td>\n",
              "      <td>19.000000</td>\n",
              "      <td>0.000000</td>\n",
              "      <td>0.00000</td>\n",
              "      <td>0.000000e+00</td>\n",
              "    </tr>\n",
              "    <tr>\n",
              "      <th>25%</th>\n",
              "      <td>0.000000</td>\n",
              "      <td>23.000000</td>\n",
              "      <td>0.000000</td>\n",
              "      <td>0.00000</td>\n",
              "      <td>1.000000e+05</td>\n",
              "    </tr>\n",
              "    <tr>\n",
              "      <th>50%</th>\n",
              "      <td>1.000000</td>\n",
              "      <td>26.000000</td>\n",
              "      <td>1.000000</td>\n",
              "      <td>0.00000</td>\n",
              "      <td>2.000000e+05</td>\n",
              "    </tr>\n",
              "    <tr>\n",
              "      <th>75%</th>\n",
              "      <td>1.000000</td>\n",
              "      <td>31.000000</td>\n",
              "      <td>1.000000</td>\n",
              "      <td>1.00000</td>\n",
              "      <td>3.000000e+05</td>\n",
              "    </tr>\n",
              "    <tr>\n",
              "      <th>max</th>\n",
              "      <td>1.000000</td>\n",
              "      <td>2001.000000</td>\n",
              "      <td>1.000000</td>\n",
              "      <td>3.00000</td>\n",
              "      <td>3.900000e+07</td>\n",
              "    </tr>\n",
              "  </tbody>\n",
              "</table>\n",
              "</div>"
            ],
            "text/plain": [
              "            gender          age      has_car    children        salary\n",
              "count  1932.000000  2000.000000  1860.000000  2000.00000  2.000000e+03\n",
              "mean      0.507764    98.411500     0.501075     0.32300  9.039300e+05\n",
              "std       0.500069   361.675137     0.500133     0.55931  4.396999e+06\n",
              "min       0.000000    19.000000     0.000000     0.00000  0.000000e+00\n",
              "25%       0.000000    23.000000     0.000000     0.00000  1.000000e+05\n",
              "50%       1.000000    26.000000     1.000000     0.00000  2.000000e+05\n",
              "75%       1.000000    31.000000     1.000000     1.00000  3.000000e+05\n",
              "max       1.000000  2001.000000     1.000000     3.00000  3.900000e+07"
            ]
          },
          "metadata": {
            "tags": []
          },
          "execution_count": 9
        }
      ]
    },
    {
      "cell_type": "markdown",
      "metadata": {
        "id": "vxWKFrILDToO"
      },
      "source": [
        "Избавимся от ошибок в анкете (кто-то вместо возраста указал год рождения)"
      ]
    },
    {
      "cell_type": "code",
      "metadata": {
        "id": "_AdINlP0DsZ_"
      },
      "source": [
        "data_train[\"age\"] = data_train[\"age\"].apply(lambda x: x if x < 200 else 2021-x).astype(int)\r\n",
        "data_test[\"age\"] = data_train[\"age\"].apply(lambda x: x if x < 200 else 2021-x).astype(int)"
      ],
      "execution_count": 10,
      "outputs": []
    },
    {
      "cell_type": "markdown",
      "metadata": {
        "id": "Le80z0WLFROo"
      },
      "source": [
        "Увидим положительные изменения в данных"
      ]
    },
    {
      "cell_type": "code",
      "metadata": {
        "colab": {
          "base_uri": "https://localhost:8080/",
          "height": 297
        },
        "id": "1TVxe8OwFL4v",
        "outputId": "9939a2c5-55da-4c55-b45c-db07842ff3f0"
      },
      "source": [
        "data_train.describe()[[\"age\"]]"
      ],
      "execution_count": 11,
      "outputs": [
        {
          "output_type": "execute_result",
          "data": {
            "text/html": [
              "<div>\n",
              "<style scoped>\n",
              "    .dataframe tbody tr th:only-of-type {\n",
              "        vertical-align: middle;\n",
              "    }\n",
              "\n",
              "    .dataframe tbody tr th {\n",
              "        vertical-align: top;\n",
              "    }\n",
              "\n",
              "    .dataframe thead th {\n",
              "        text-align: right;\n",
              "    }\n",
              "</style>\n",
              "<table border=\"1\" class=\"dataframe\">\n",
              "  <thead>\n",
              "    <tr style=\"text-align: right;\">\n",
              "      <th></th>\n",
              "      <th>age</th>\n",
              "    </tr>\n",
              "  </thead>\n",
              "  <tbody>\n",
              "    <tr>\n",
              "      <th>count</th>\n",
              "      <td>2000.000000</td>\n",
              "    </tr>\n",
              "    <tr>\n",
              "      <th>mean</th>\n",
              "      <td>29.441500</td>\n",
              "    </tr>\n",
              "    <tr>\n",
              "      <th>std</th>\n",
              "      <td>13.161998</td>\n",
              "    </tr>\n",
              "    <tr>\n",
              "      <th>min</th>\n",
              "      <td>19.000000</td>\n",
              "    </tr>\n",
              "    <tr>\n",
              "      <th>25%</th>\n",
              "      <td>23.000000</td>\n",
              "    </tr>\n",
              "    <tr>\n",
              "      <th>50%</th>\n",
              "      <td>26.000000</td>\n",
              "    </tr>\n",
              "    <tr>\n",
              "      <th>75%</th>\n",
              "      <td>31.000000</td>\n",
              "    </tr>\n",
              "    <tr>\n",
              "      <th>max</th>\n",
              "      <td>121.000000</td>\n",
              "    </tr>\n",
              "  </tbody>\n",
              "</table>\n",
              "</div>"
            ],
            "text/plain": [
              "               age\n",
              "count  2000.000000\n",
              "mean     29.441500\n",
              "std      13.161998\n",
              "min      19.000000\n",
              "25%      23.000000\n",
              "50%      26.000000\n",
              "75%      31.000000\n",
              "max     121.000000"
            ]
          },
          "metadata": {
            "tags": []
          },
          "execution_count": 11
        }
      ]
    },
    {
      "cell_type": "markdown",
      "metadata": {
        "id": "Q1idDEo8AL1T"
      },
      "source": [
        "Избавимся от пропущенных значений, подставляя вместо них медиану по ряду"
      ]
    },
    {
      "cell_type": "code",
      "metadata": {
        "id": "WGj2IYOmDLqQ"
      },
      "source": [
        "to_fill = [\"gender\", \"age\", \"has_car\", \"children\", \"salary\"]\r\n",
        "for col in to_fill:\r\n",
        "  median_train = data_train[col].median()\r\n",
        "  data_train[col] = data_train[col].fillna(median_train)\r\n",
        "  median_test = data_test[col].median()\r\n",
        "  data_test[col] = data_test[col].fillna(median_test)"
      ],
      "execution_count": 12,
      "outputs": []
    },
    {
      "cell_type": "markdown",
      "metadata": {
        "id": "UBkBGZeIFZQE"
      },
      "source": [
        "Вновь увидим положительные изменения в данных"
      ]
    },
    {
      "cell_type": "code",
      "metadata": {
        "colab": {
          "base_uri": "https://localhost:8080/",
          "height": 297
        },
        "id": "0YVNWBGKFcis",
        "outputId": "ba3f22fb-1f55-4840-8d6b-b33fa991373e"
      },
      "source": [
        "data_train.describe()"
      ],
      "execution_count": 13,
      "outputs": [
        {
          "output_type": "execute_result",
          "data": {
            "text/html": [
              "<div>\n",
              "<style scoped>\n",
              "    .dataframe tbody tr th:only-of-type {\n",
              "        vertical-align: middle;\n",
              "    }\n",
              "\n",
              "    .dataframe tbody tr th {\n",
              "        vertical-align: top;\n",
              "    }\n",
              "\n",
              "    .dataframe thead th {\n",
              "        text-align: right;\n",
              "    }\n",
              "</style>\n",
              "<table border=\"1\" class=\"dataframe\">\n",
              "  <thead>\n",
              "    <tr style=\"text-align: right;\">\n",
              "      <th></th>\n",
              "      <th>gender</th>\n",
              "      <th>age</th>\n",
              "      <th>has_car</th>\n",
              "      <th>children</th>\n",
              "      <th>salary</th>\n",
              "    </tr>\n",
              "  </thead>\n",
              "  <tbody>\n",
              "    <tr>\n",
              "      <th>count</th>\n",
              "      <td>2000.000000</td>\n",
              "      <td>2000.000000</td>\n",
              "      <td>2000.000000</td>\n",
              "      <td>2000.00000</td>\n",
              "      <td>2.000000e+03</td>\n",
              "    </tr>\n",
              "    <tr>\n",
              "      <th>mean</th>\n",
              "      <td>0.524500</td>\n",
              "      <td>29.441500</td>\n",
              "      <td>0.536000</td>\n",
              "      <td>0.32300</td>\n",
              "      <td>9.039300e+05</td>\n",
              "    </tr>\n",
              "    <tr>\n",
              "      <th>std</th>\n",
              "      <td>0.499524</td>\n",
              "      <td>13.161998</td>\n",
              "      <td>0.498827</td>\n",
              "      <td>0.55931</td>\n",
              "      <td>4.396999e+06</td>\n",
              "    </tr>\n",
              "    <tr>\n",
              "      <th>min</th>\n",
              "      <td>0.000000</td>\n",
              "      <td>19.000000</td>\n",
              "      <td>0.000000</td>\n",
              "      <td>0.00000</td>\n",
              "      <td>0.000000e+00</td>\n",
              "    </tr>\n",
              "    <tr>\n",
              "      <th>25%</th>\n",
              "      <td>0.000000</td>\n",
              "      <td>23.000000</td>\n",
              "      <td>0.000000</td>\n",
              "      <td>0.00000</td>\n",
              "      <td>1.000000e+05</td>\n",
              "    </tr>\n",
              "    <tr>\n",
              "      <th>50%</th>\n",
              "      <td>1.000000</td>\n",
              "      <td>26.000000</td>\n",
              "      <td>1.000000</td>\n",
              "      <td>0.00000</td>\n",
              "      <td>2.000000e+05</td>\n",
              "    </tr>\n",
              "    <tr>\n",
              "      <th>75%</th>\n",
              "      <td>1.000000</td>\n",
              "      <td>31.000000</td>\n",
              "      <td>1.000000</td>\n",
              "      <td>1.00000</td>\n",
              "      <td>3.000000e+05</td>\n",
              "    </tr>\n",
              "    <tr>\n",
              "      <th>max</th>\n",
              "      <td>1.000000</td>\n",
              "      <td>121.000000</td>\n",
              "      <td>1.000000</td>\n",
              "      <td>3.00000</td>\n",
              "      <td>3.900000e+07</td>\n",
              "    </tr>\n",
              "  </tbody>\n",
              "</table>\n",
              "</div>"
            ],
            "text/plain": [
              "            gender          age      has_car    children        salary\n",
              "count  2000.000000  2000.000000  2000.000000  2000.00000  2.000000e+03\n",
              "mean      0.524500    29.441500     0.536000     0.32300  9.039300e+05\n",
              "std       0.499524    13.161998     0.498827     0.55931  4.396999e+06\n",
              "min       0.000000    19.000000     0.000000     0.00000  0.000000e+00\n",
              "25%       0.000000    23.000000     0.000000     0.00000  1.000000e+05\n",
              "50%       1.000000    26.000000     1.000000     0.00000  2.000000e+05\n",
              "75%       1.000000    31.000000     1.000000     1.00000  3.000000e+05\n",
              "max       1.000000   121.000000     1.000000     3.00000  3.900000e+07"
            ]
          },
          "metadata": {
            "tags": []
          },
          "execution_count": 13
        }
      ]
    },
    {
      "cell_type": "markdown",
      "metadata": {
        "id": "9nnMF8k11RiI"
      },
      "source": [
        "Нормализуем числовые данные линейным методом, т.е. распределим их на отрезке [0;1] по формуле x = (x - min)/(max - min)"
      ]
    },
    {
      "cell_type": "code",
      "metadata": {
        "id": "saXffDgnF-n8"
      },
      "source": [
        "to_normalize = [\"age\", \"salary\", \"children\"]\r\n",
        "for col in to_normalize:\r\n",
        "  mx = max(data_train[col].max(), data_test[col].max())\r\n",
        "  mn = min(data_train[col].min(), data_test[col].min())\r\n",
        "  dif = mx - mn\r\n",
        "  data_train[col] = data_train[col].apply(lambda x: (x - mn) / dif)\r\n",
        "  data_test[col] = data_test[col].apply(lambda x: (x - mn) / dif)"
      ],
      "execution_count": 14,
      "outputs": []
    },
    {
      "cell_type": "code",
      "metadata": {
        "colab": {
          "base_uri": "https://localhost:8080/",
          "height": 297
        },
        "id": "-wVuVU1RHZGd",
        "outputId": "2b3093fc-04b0-44b0-c91c-9e8799e9dc59"
      },
      "source": [
        "data_train.describe()"
      ],
      "execution_count": 15,
      "outputs": [
        {
          "output_type": "execute_result",
          "data": {
            "text/html": [
              "<div>\n",
              "<style scoped>\n",
              "    .dataframe tbody tr th:only-of-type {\n",
              "        vertical-align: middle;\n",
              "    }\n",
              "\n",
              "    .dataframe tbody tr th {\n",
              "        vertical-align: top;\n",
              "    }\n",
              "\n",
              "    .dataframe thead th {\n",
              "        text-align: right;\n",
              "    }\n",
              "</style>\n",
              "<table border=\"1\" class=\"dataframe\">\n",
              "  <thead>\n",
              "    <tr style=\"text-align: right;\">\n",
              "      <th></th>\n",
              "      <th>gender</th>\n",
              "      <th>age</th>\n",
              "      <th>has_car</th>\n",
              "      <th>children</th>\n",
              "      <th>salary</th>\n",
              "    </tr>\n",
              "  </thead>\n",
              "  <tbody>\n",
              "    <tr>\n",
              "      <th>count</th>\n",
              "      <td>2000.000000</td>\n",
              "      <td>2000.000000</td>\n",
              "      <td>2000.000000</td>\n",
              "      <td>2000.000000</td>\n",
              "      <td>2000.000000</td>\n",
              "    </tr>\n",
              "    <tr>\n",
              "      <th>mean</th>\n",
              "      <td>0.524500</td>\n",
              "      <td>0.102368</td>\n",
              "      <td>0.536000</td>\n",
              "      <td>0.080750</td>\n",
              "      <td>0.023178</td>\n",
              "    </tr>\n",
              "    <tr>\n",
              "      <th>std</th>\n",
              "      <td>0.499524</td>\n",
              "      <td>0.129039</td>\n",
              "      <td>0.498827</td>\n",
              "      <td>0.139827</td>\n",
              "      <td>0.112744</td>\n",
              "    </tr>\n",
              "    <tr>\n",
              "      <th>min</th>\n",
              "      <td>0.000000</td>\n",
              "      <td>0.000000</td>\n",
              "      <td>0.000000</td>\n",
              "      <td>0.000000</td>\n",
              "      <td>0.000000</td>\n",
              "    </tr>\n",
              "    <tr>\n",
              "      <th>25%</th>\n",
              "      <td>0.000000</td>\n",
              "      <td>0.039216</td>\n",
              "      <td>0.000000</td>\n",
              "      <td>0.000000</td>\n",
              "      <td>0.002564</td>\n",
              "    </tr>\n",
              "    <tr>\n",
              "      <th>50%</th>\n",
              "      <td>1.000000</td>\n",
              "      <td>0.068627</td>\n",
              "      <td>1.000000</td>\n",
              "      <td>0.000000</td>\n",
              "      <td>0.005128</td>\n",
              "    </tr>\n",
              "    <tr>\n",
              "      <th>75%</th>\n",
              "      <td>1.000000</td>\n",
              "      <td>0.117647</td>\n",
              "      <td>1.000000</td>\n",
              "      <td>0.250000</td>\n",
              "      <td>0.007692</td>\n",
              "    </tr>\n",
              "    <tr>\n",
              "      <th>max</th>\n",
              "      <td>1.000000</td>\n",
              "      <td>1.000000</td>\n",
              "      <td>1.000000</td>\n",
              "      <td>0.750000</td>\n",
              "      <td>1.000000</td>\n",
              "    </tr>\n",
              "  </tbody>\n",
              "</table>\n",
              "</div>"
            ],
            "text/plain": [
              "            gender          age      has_car     children       salary\n",
              "count  2000.000000  2000.000000  2000.000000  2000.000000  2000.000000\n",
              "mean      0.524500     0.102368     0.536000     0.080750     0.023178\n",
              "std       0.499524     0.129039     0.498827     0.139827     0.112744\n",
              "min       0.000000     0.000000     0.000000     0.000000     0.000000\n",
              "25%       0.000000     0.039216     0.000000     0.000000     0.002564\n",
              "50%       1.000000     0.068627     1.000000     0.000000     0.005128\n",
              "75%       1.000000     0.117647     1.000000     0.250000     0.007692\n",
              "max       1.000000     1.000000     1.000000     0.750000     1.000000"
            ]
          },
          "metadata": {
            "tags": []
          },
          "execution_count": 15
        }
      ]
    },
    {
      "cell_type": "markdown",
      "metadata": {
        "id": "wErh2i9B1_9u"
      },
      "source": [
        "Выделим категориальные фичи для дальнейшей передачи в CatBoost и преобразуем их в целочисленный тип"
      ]
    },
    {
      "cell_type": "code",
      "metadata": {
        "id": "4A8FbrcL2TAk"
      },
      "source": [
        "cat_features = [\"has_car\", \"gender\"]\r\n",
        "for col in cat_features:\r\n",
        "  data_train[col] = data_train[col].astype(int)\r\n",
        "  data_test[col] = data_test[col].astype(int)"
      ],
      "execution_count": 16,
      "outputs": []
    },
    {
      "cell_type": "markdown",
      "metadata": {
        "id": "XIDMWYFx5D9y"
      },
      "source": [
        "Так как используем CatBoost, можем не беспокоиться о текстовых фичах, их векторизуют за нас"
      ]
    },
    {
      "cell_type": "markdown",
      "metadata": {
        "id": "MmxwCQIP2f1m"
      },
      "source": [
        "Разделим обучающую выборку на основную и валидационную в соотношении 70%/30%. Параметром stratify разделим данные так, чтобы соотношение классов в основной и валидационной выборках было равным"
      ]
    },
    {
      "cell_type": "code",
      "metadata": {
        "id": "KsC97rpHJfRa"
      },
      "source": [
        "x_train, x_validation, y_train, y_validation = train_test_split(data_train,\r\n",
        "                                                                target,\r\n",
        "                                                                test_size=0.3,\r\n",
        "                                                                stratify = target)"
      ],
      "execution_count": 17,
      "outputs": []
    },
    {
      "cell_type": "markdown",
      "metadata": {
        "id": "JuT56KFj3xlU"
      },
      "source": [
        "Создаем классификатор, устанавливаем гиперпараметры, подбирая их в зависимости от размера датасета и колонок  \r\n",
        "При необходимости можно воспользоваться методами GridSearch и RandomSearch по гиперпараметрам  \r\n",
        "Методы также доступны в библиотеке CatBoost  \r\n",
        "Не забываем передать категориальные фичи в качестве аргумента"
      ]
    },
    {
      "cell_type": "code",
      "metadata": {
        "id": "A302a4v-JfTi"
      },
      "source": [
        "model = CatBoostClassifier(iterations=500,\r\n",
        "                            depth = 2,\r\n",
        "                            learning_rate = 0.005,\r\n",
        "                            # l2_leaf_reg = 4,\r\n",
        "                            eval_metric=\"F1\",\r\n",
        "                            loss_function = \"Logloss\",\r\n",
        "                            task_type=\"GPU\",\r\n",
        "                            # fold_permutation_block = 2,\r\n",
        "                            # fold_len_multiplier = 1.5,\r\n",
        "                            # leaf_estimation_iterations = 10,\r\n",
        "                            # max_ctr_complexity = 1,\r\n",
        "                            random_seed= 127,\r\n",
        "                            cat_features = cat_features\r\n",
        "                           )"
      ],
      "execution_count": 18,
      "outputs": []
    },
    {
      "cell_type": "markdown",
      "metadata": {
        "id": "aQlRmZuE4Rdc"
      },
      "source": [
        "Обучаем модель, используя валидационную выборку, устанавливаем ограничение early_stopping_rounds для избежания переобучения"
      ]
    },
    {
      "cell_type": "code",
      "metadata": {
        "colab": {
          "base_uri": "https://localhost:8080/"
        },
        "id": "krbA2UWbJijK",
        "outputId": "9015750b-35c0-43b9-f167-f6775e4fa9ee"
      },
      "source": [
        "model.fit(x_train, \r\n",
        "          y_train, \r\n",
        "          eval_set=(x_validation, y_validation), \r\n",
        "          use_best_model=True, \r\n",
        "          early_stopping_rounds=300,  \r\n",
        "          plot=False, \r\n",
        "          verbose=100\r\n",
        "          )"
      ],
      "execution_count": 19,
      "outputs": [
        {
          "output_type": "stream",
          "text": [
            "0:\tlearn: 0.6908213\ttest: 0.7155425\tbest: 0.7155425 (0)\ttotal: 18ms\tremaining: 9.01s\n",
            "100:\tlearn: 0.9150327\ttest: 0.9083969\tbest: 0.9083969 (32)\ttotal: 1.49s\tremaining: 5.89s\n",
            "200:\tlearn: 0.9150327\ttest: 0.9083969\tbest: 0.9083969 (32)\ttotal: 2.96s\tremaining: 4.4s\n",
            "300:\tlearn: 0.9240711\ttest: 0.9207547\tbest: 0.9207547 (235)\ttotal: 4.53s\tremaining: 2.99s\n",
            "400:\tlearn: 0.9240711\ttest: 0.9207547\tbest: 0.9207547 (235)\ttotal: 6.03s\tremaining: 1.49s\n",
            "499:\tlearn: 0.9240711\ttest: 0.9207547\tbest: 0.9207547 (235)\ttotal: 7.53s\tremaining: 0us\n",
            "bestTest = 0.920754717\n",
            "bestIteration = 235\n",
            "Shrink model to first 236 iterations.\n"
          ],
          "name": "stdout"
        },
        {
          "output_type": "execute_result",
          "data": {
            "text/plain": [
              "<catboost.core.CatBoostClassifier at 0x7fbf1a674588>"
            ]
          },
          "metadata": {
            "tags": []
          },
          "execution_count": 19
        }
      ]
    },
    {
      "cell_type": "markdown",
      "metadata": {
        "id": "W0sZHA2m4hJe"
      },
      "source": [
        "Получаем predict probability"
      ]
    },
    {
      "cell_type": "code",
      "metadata": {
        "id": "B7Ilfwz3Jk8L"
      },
      "source": [
        "pred = model.predict_proba(data_test.drop(columns = [\"id\"]))"
      ],
      "execution_count": 20,
      "outputs": []
    },
    {
      "cell_type": "code",
      "metadata": {
        "id": "gW8c8kcaJ_aU"
      },
      "source": [
        "test_ids = data_test[\"id\"].tolist()\r\n",
        "best_candidates = []"
      ],
      "execution_count": 21,
      "outputs": []
    },
    {
      "cell_type": "markdown",
      "metadata": {
        "id": "qzTBARygQWPM"
      },
      "source": [
        "Выбираем для просмотра только тех кандидатов, у которых принадлежность ко второму классу больше порогового значения"
      ]
    },
    {
      "cell_type": "code",
      "metadata": {
        "id": "DNRTbx3Gyo9Q"
      },
      "source": [
        "for i in range(len(test_ids)):\r\n",
        "  if (pred[i][1] > 0.65):\r\n",
        "    best_candidates.append(test_ids[i])"
      ],
      "execution_count": 22,
      "outputs": []
    },
    {
      "cell_type": "markdown",
      "metadata": {
        "id": "6Qe-K5rgQm0W"
      },
      "source": [
        "Получаем id кандидатов"
      ]
    },
    {
      "cell_type": "code",
      "metadata": {
        "colab": {
          "base_uri": "https://localhost:8080/"
        },
        "id": "7U9xGrHWTOsb",
        "outputId": "c58b799f-da7f-4cee-ae24-79b2fe2d1126"
      },
      "source": [
        "len(best_candidates)"
      ],
      "execution_count": 23,
      "outputs": [
        {
          "output_type": "execute_result",
          "data": {
            "text/plain": [
              "229"
            ]
          },
          "metadata": {
            "tags": []
          },
          "execution_count": 23
        }
      ]
    },
    {
      "cell_type": "code",
      "metadata": {
        "colab": {
          "base_uri": "https://localhost:8080/"
        },
        "id": "V79Ir0QDKVK7",
        "outputId": "bb6ffa09-26b1-4da1-fbdf-b1c8e49bac95"
      },
      "source": [
        "best_candidates"
      ],
      "execution_count": 24,
      "outputs": [
        {
          "output_type": "execute_result",
          "data": {
            "text/plain": [
              "[3025,\n",
              " 3034,\n",
              " 3037,\n",
              " 3038,\n",
              " 3045,\n",
              " 3060,\n",
              " 3062,\n",
              " 3064,\n",
              " 3068,\n",
              " 3076,\n",
              " 3081,\n",
              " 3087,\n",
              " 3089,\n",
              " 3093,\n",
              " 3102,\n",
              " 3104,\n",
              " 3126,\n",
              " 3144,\n",
              " 3148,\n",
              " 3154,\n",
              " 3161,\n",
              " 3162,\n",
              " 3177,\n",
              " 3185,\n",
              " 3189,\n",
              " 3203,\n",
              " 3245,\n",
              " 3248,\n",
              " 3259,\n",
              " 3267,\n",
              " 3274,\n",
              " 3292,\n",
              " 3296,\n",
              " 3301,\n",
              " 3303,\n",
              " 3304,\n",
              " 3319,\n",
              " 3322,\n",
              " 3330,\n",
              " 3340,\n",
              " 3348,\n",
              " 3353,\n",
              " 3370,\n",
              " 3374,\n",
              " 3393,\n",
              " 3394,\n",
              " 3398,\n",
              " 3401,\n",
              " 3411,\n",
              " 3427,\n",
              " 3445,\n",
              " 3448,\n",
              " 3449,\n",
              " 3453,\n",
              " 3455,\n",
              " 3474,\n",
              " 3484,\n",
              " 3485,\n",
              " 3489,\n",
              " 3493,\n",
              " 3497,\n",
              " 3501,\n",
              " 3503,\n",
              " 3521,\n",
              " 3526,\n",
              " 3549,\n",
              " 3552,\n",
              " 3557,\n",
              " 3566,\n",
              " 3569,\n",
              " 3571,\n",
              " 3597,\n",
              " 3613,\n",
              " 3616,\n",
              " 3623,\n",
              " 3628,\n",
              " 3645,\n",
              " 3647,\n",
              " 3653,\n",
              " 3674,\n",
              " 3694,\n",
              " 3702,\n",
              " 3703,\n",
              " 3711,\n",
              " 3712,\n",
              " 3713,\n",
              " 3723,\n",
              " 3736,\n",
              " 3772,\n",
              " 3777,\n",
              " 3779,\n",
              " 3789,\n",
              " 3791,\n",
              " 3796,\n",
              " 3797,\n",
              " 3801,\n",
              " 3807,\n",
              " 3827,\n",
              " 3853,\n",
              " 3860,\n",
              " 3865,\n",
              " 3866,\n",
              " 3881,\n",
              " 3883,\n",
              " 3897,\n",
              " 3909,\n",
              " 3910,\n",
              " 3927,\n",
              " 3931,\n",
              " 3932,\n",
              " 3938,\n",
              " 3951,\n",
              " 3967,\n",
              " 3969,\n",
              " 3998,\n",
              " 3999,\n",
              " 4021,\n",
              " 4023,\n",
              " 4025,\n",
              " 4026,\n",
              " 4035,\n",
              " 4039,\n",
              " 4052,\n",
              " 4056,\n",
              " 4061,\n",
              " 4064,\n",
              " 4069,\n",
              " 4071,\n",
              " 4094,\n",
              " 4121,\n",
              " 4124,\n",
              " 4126,\n",
              " 4142,\n",
              " 4149,\n",
              " 4153,\n",
              " 4167,\n",
              " 4168,\n",
              " 4171,\n",
              " 4172,\n",
              " 4175,\n",
              " 4198,\n",
              " 4208,\n",
              " 4214,\n",
              " 4219,\n",
              " 4220,\n",
              " 4223,\n",
              " 4244,\n",
              " 4250,\n",
              " 4252,\n",
              " 4264,\n",
              " 4274,\n",
              " 4278,\n",
              " 4289,\n",
              " 4292,\n",
              " 4299,\n",
              " 4304,\n",
              " 4306,\n",
              " 4317,\n",
              " 4338,\n",
              " 4347,\n",
              " 4351,\n",
              " 4364,\n",
              " 4373,\n",
              " 4375,\n",
              " 4382,\n",
              " 4384,\n",
              " 4386,\n",
              " 4394,\n",
              " 4400,\n",
              " 4403,\n",
              " 4422,\n",
              " 4423,\n",
              " 4424,\n",
              " 4437,\n",
              " 4441,\n",
              " 4450,\n",
              " 4451,\n",
              " 4463,\n",
              " 4468,\n",
              " 4471,\n",
              " 4485,\n",
              " 4515,\n",
              " 4527,\n",
              " 4535,\n",
              " 4538,\n",
              " 4540,\n",
              " 4551,\n",
              " 4566,\n",
              " 4567,\n",
              " 4570,\n",
              " 4574,\n",
              " 4584,\n",
              " 4593,\n",
              " 4608,\n",
              " 4621,\n",
              " 4640,\n",
              " 4656,\n",
              " 4660,\n",
              " 4669,\n",
              " 4684,\n",
              " 4685,\n",
              " 4696,\n",
              " 4713,\n",
              " 4734,\n",
              " 4765,\n",
              " 4809,\n",
              " 4811,\n",
              " 4814,\n",
              " 4815,\n",
              " 4819,\n",
              " 4838,\n",
              " 4864,\n",
              " 4872,\n",
              " 4877,\n",
              " 4882,\n",
              " 4885,\n",
              " 4888,\n",
              " 4921,\n",
              " 4924,\n",
              " 4926,\n",
              " 4936,\n",
              " 4941,\n",
              " 4944,\n",
              " 4945,\n",
              " 4946,\n",
              " 4965,\n",
              " 4969,\n",
              " 4971,\n",
              " 4975]"
            ]
          },
          "metadata": {
            "tags": []
          },
          "execution_count": 24
        }
      ]
    },
    {
      "cell_type": "markdown",
      "metadata": {
        "id": "-kmWmYGE5xtK"
      },
      "source": [
        "При необходимости мы можем посмотреть \"важность\" фичей и убрать из датасетов те фичи, которые не влияют на ответ модели. Иногда это приносит пользу."
      ]
    },
    {
      "cell_type": "code",
      "metadata": {
        "id": "KnFOv8VnD5p4",
        "colab": {
          "base_uri": "https://localhost:8080/",
          "height": 204
        },
        "outputId": "cafb9003-0a5b-405b-d76f-11494b93223e"
      },
      "source": [
        "model.get_feature_importance(prettified=True, verbose = True).head(20)"
      ],
      "execution_count": 25,
      "outputs": [
        {
          "output_type": "execute_result",
          "data": {
            "text/html": [
              "<div>\n",
              "<style scoped>\n",
              "    .dataframe tbody tr th:only-of-type {\n",
              "        vertical-align: middle;\n",
              "    }\n",
              "\n",
              "    .dataframe tbody tr th {\n",
              "        vertical-align: top;\n",
              "    }\n",
              "\n",
              "    .dataframe thead th {\n",
              "        text-align: right;\n",
              "    }\n",
              "</style>\n",
              "<table border=\"1\" class=\"dataframe\">\n",
              "  <thead>\n",
              "    <tr style=\"text-align: right;\">\n",
              "      <th></th>\n",
              "      <th>Feature Id</th>\n",
              "      <th>Importances</th>\n",
              "    </tr>\n",
              "  </thead>\n",
              "  <tbody>\n",
              "    <tr>\n",
              "      <th>0</th>\n",
              "      <td>has_car</td>\n",
              "      <td>49.571656</td>\n",
              "    </tr>\n",
              "    <tr>\n",
              "      <th>1</th>\n",
              "      <td>children</td>\n",
              "      <td>22.849013</td>\n",
              "    </tr>\n",
              "    <tr>\n",
              "      <th>2</th>\n",
              "      <td>salary</td>\n",
              "      <td>20.251699</td>\n",
              "    </tr>\n",
              "    <tr>\n",
              "      <th>3</th>\n",
              "      <td>age</td>\n",
              "      <td>7.327632</td>\n",
              "    </tr>\n",
              "    <tr>\n",
              "      <th>4</th>\n",
              "      <td>gender</td>\n",
              "      <td>0.000000</td>\n",
              "    </tr>\n",
              "  </tbody>\n",
              "</table>\n",
              "</div>"
            ],
            "text/plain": [
              "  Feature Id  Importances\n",
              "0    has_car    49.571656\n",
              "1   children    22.849013\n",
              "2     salary    20.251699\n",
              "3        age     7.327632\n",
              "4     gender     0.000000"
            ]
          },
          "metadata": {
            "tags": []
          },
          "execution_count": 25
        }
      ]
    },
    {
      "cell_type": "code",
      "metadata": {
        "id": "chTBLGt-BelO"
      },
      "source": [
        "useless_features = model.get_feature_importance(prettified=True, verbose = True).query(\"Importances==0\")[\"Feature Id\"].tolist()\n",
        "len(useless_features)"
      ],
      "execution_count": null,
      "outputs": []
    },
    {
      "cell_type": "code",
      "metadata": {
        "id": "h4DmVGItgedE"
      },
      "source": [
        "data_train = data_train.drop(columns = useless_features)"
      ],
      "execution_count": null,
      "outputs": []
    },
    {
      "cell_type": "code",
      "metadata": {
        "id": "ydm71h2rglMG"
      },
      "source": [
        "data_test = data_test.drop(columns = useless_features)"
      ],
      "execution_count": null,
      "outputs": []
    }
  ]
}